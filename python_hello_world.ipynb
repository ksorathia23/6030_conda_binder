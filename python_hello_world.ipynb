{
 "cells": [
  {
   "cell_type": "markdown",
   "id": "31aee567-3163-494d-bc66-04aba946bd17",
   "metadata": {},
   "source": [
    "# My wonderful python script that says \"Hello World\" to my amazing class"
   ]
  },
  {
   "cell_type": "code",
   "execution_count": 4,
   "id": "de053e6a-bec1-4018-81cc-1340a74fdbb0",
   "metadata": {
    "tags": []
   },
   "outputs": [
    {
     "name": "stdout",
     "output_type": "stream",
     "text": [
      "Hello World\n"
     ]
    }
   ],
   "source": [
    "print(\"Hello World\")"
   ]
  },
  {
   "cell_type": "code",
   "execution_count": null,
   "id": "069aa32c-b9ba-4fdc-8d31-ae50184f392c",
   "metadata": {},
   "outputs": [],
   "source": []
  },
  {
   "cell_type": "code",
   "execution_count": null,
   "id": "2b9cf686-0ff7-44af-bfd6-5189c331f3bf",
   "metadata": {},
   "outputs": [],
   "source": []
  }
 ],
 "metadata": {
  "kernelspec": {
   "display_name": "Python 3 (ipykernel)",
   "language": "python",
   "name": "python3"
  },
  "language_info": {
   "codemirror_mode": {
    "name": "ipython",
    "version": 3
   },
   "file_extension": ".py",
   "mimetype": "text/x-python",
   "name": "python",
   "nbconvert_exporter": "python",
   "pygments_lexer": "ipython3",
   "version": "3.11.4"
  }
 },
 "nbformat": 4,
 "nbformat_minor": 5
}
